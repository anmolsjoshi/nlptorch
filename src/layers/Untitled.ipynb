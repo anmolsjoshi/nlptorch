{
 "cells": [
  {
   "cell_type": "code",
   "execution_count": null,
   "metadata": {},
   "outputs": [],
   "source": [
    "!wget https://raw.githubusercontent.com/anmolsjoshi/nlptorch/master/layers/embedding.py"
   ]
  },
  {
   "cell_type": "code",
   "execution_count": null,
   "metadata": {},
   "outputs": [],
   "source": [
    "!wget https://raw.githubusercontent.com/anmolsjoshi/nlptorch/master/layers/highway.py"
   ]
  },
  {
   "cell_type": "code",
   "execution_count": null,
   "metadata": {},
   "outputs": [],
   "source": [
    "!wget https://raw.githubusercontent.com/anmolsjoshi/nlptorch/master/layers/attention.py"
   ]
  },
  {
   "cell_type": "code",
   "execution_count": 1,
   "metadata": {},
   "outputs": [],
   "source": [
    "import torch as th\n",
    "import torch.nn as nn"
   ]
  },
  {
   "cell_type": "code",
   "execution_count": 15,
   "metadata": {},
   "outputs": [],
   "source": [
    "x = th.zeros([10, 600, 256])\n",
    "y = th.zeros([256*3, 1])"
   ]
  },
  {
   "cell_type": "code",
   "execution_count": null,
   "metadata": {},
   "outputs": [],
   "source": [
    "x_ = x.view(-1, x.shape[2])\n",
    "x_.shape"
   ]
  },
  {
   "cell_type": "code",
   "execution_count": 18,
   "metadata": {},
   "outputs": [],
   "source": [
    "cc = nn.Linear(768, 1).cuda()"
   ]
  },
  {
   "cell_type": "code",
   "execution_count": null,
   "metadata": {},
   "outputs": [],
   "source": [
    "x.view(-1, x.shape[2]).shape"
   ]
  },
  {
   "cell_type": "code",
   "execution_count": null,
   "metadata": {},
   "outputs": [],
   "source": [
    "cc(x_).shape"
   ]
  },
  {
   "cell_type": "code",
   "execution_count": null,
   "metadata": {},
   "outputs": [],
   "source": [
    "cc(x_.transpose(1, 0)).shape"
   ]
  },
  {
   "cell_type": "code",
   "execution_count": 21,
   "metadata": {},
   "outputs": [],
   "source": [
    "x = th.zeros([8, 600, 256])\n",
    "y = th.zeros([8, 100, 256])\n",
    "\n",
    "x = x.cuda()\n",
    "y = y.cuda()\n",
    "\n",
    "#x = x.unsqueeze(2).repeat(1, 1, 100, 1)\n",
    "#y = y.unsqueeze(1).repeat(1, 600, 1, 1)\n",
    "\n",
    "#p = th.mul(x, y)"
   ]
  },
  {
   "cell_type": "code",
   "execution_count": 32,
   "metadata": {},
   "outputs": [],
   "source": [
    "I = th.bmm(x, y.transpose(1, 2))"
   ]
  },
  {
   "cell_type": "code",
   "execution_count": 33,
   "metadata": {},
   "outputs": [
    {
     "data": {
      "text/plain": [
       "torch.Size([8, 600, 100])"
      ]
     },
     "execution_count": 33,
     "metadata": {},
     "output_type": "execute_result"
    }
   ],
   "source": [
    "I.shape"
   ]
  },
  {
   "cell_type": "code",
   "execution_count": 19,
   "metadata": {},
   "outputs": [],
   "source": [
    "w = cc(o)"
   ]
  },
  {
   "cell_type": "code",
   "execution_count": 20,
   "metadata": {},
   "outputs": [
    {
     "data": {
      "text/plain": [
       "torch.Size([8, 600, 100, 1])"
      ]
     },
     "execution_count": 20,
     "metadata": {},
     "output_type": "execute_result"
    }
   ],
   "source": [
    "w.shape"
   ]
  },
  {
   "cell_type": "code",
   "execution_count": 1,
   "metadata": {},
   "outputs": [],
   "source": [
    "import torch as T\n",
    "from torch import nn as nn\n",
    "from torch.nn import functional as F"
   ]
  },
  {
   "cell_type": "code",
   "execution_count": 24,
   "metadata": {},
   "outputs": [],
   "source": [
    "class CoAttention(nn.Module):\n",
    "    def __init__(self, hidden_size):\n",
    "        super(CoAttention, self).__init__()\n",
    "        self.Wqj = nn.Linear(2*hidden_size, 2*hidden_size)\n",
    "        self.c0 = nn.Parameter(T.rand(2*hidden_size,))\n",
    "        self.q0 = nn.Parameter(T.rand(2 * hidden_size, ))\n",
    "    \n",
    "    def forward(self, q, c):\n",
    "        b, _, l = q.shape\n",
    "        qj = F.tanh(self.Wqj(q))\n",
    "        q_vec = self.c0.unsqueeze(0).expand(b, l).unsqueeze(1)\n",
    "        q = T.cat([qj, q_vec], dim=1)\n",
    "\n",
    "        c_vec = self.c0.unsqueeze(0).expand(b, l).unsqueeze(1)\n",
    "        c = T.cat([c, c_vec], dim=1)\n",
    "\n",
    "        L = T.bmm(q, c.transpose(1, 2))\n",
    "        alpha = F.softmax(L, dim=2)\n",
    "        beta = F.softmax(L, dim=1)\n",
    "\n",
    "        return alpha, beta"
   ]
  },
  {
   "cell_type": "code",
   "execution_count": 15,
   "metadata": {},
   "outputs": [],
   "source": [
    "class BasicAttention(nn.Module):\n",
    "    def __init__(self):\n",
    "        super(BasicAttention, self).__init__()\n",
    "    \n",
    "    def forward(self, x, y):\n",
    "        e = th.bmm(x, y.transpose(1, 2))\n",
    "        ai = F.softmax(e, dim=-1)\n",
    "        a = th.bmm(ai, y)\n",
    "        b = th.cat([x, a], dim=-1)\n",
    "        \n",
    "        return b"
   ]
  },
  {
   "cell_type": "code",
   "execution_count": 25,
   "metadata": {},
   "outputs": [],
   "source": [
    "x = T.zeros([8, 600, 256])\n",
    "y = T.zeros([8, 100, 256])\n",
    "\n",
    "x = x.cuda()\n",
    "y = y.cuda()"
   ]
  },
  {
   "cell_type": "code",
   "execution_count": 26,
   "metadata": {},
   "outputs": [],
   "source": [
    "i = CoAttention(128).cuda()\n",
    "l, n = i(x, y)"
   ]
  },
  {
   "cell_type": "code",
   "execution_count": 27,
   "metadata": {},
   "outputs": [
    {
     "data": {
      "text/plain": [
       "torch.Size([8, 601, 101])"
      ]
     },
     "execution_count": 27,
     "metadata": {},
     "output_type": "execute_result"
    }
   ],
   "source": [
    "l.shape"
   ]
  },
  {
   "cell_type": "code",
   "execution_count": 28,
   "metadata": {},
   "outputs": [
    {
     "data": {
      "text/plain": [
       "torch.Size([8, 601, 101])"
      ]
     },
     "execution_count": 28,
     "metadata": {},
     "output_type": "execute_result"
    }
   ],
   "source": [
    "n.shape"
   ]
  },
  {
   "cell_type": "code",
   "execution_count": null,
   "metadata": {},
   "outputs": [],
   "source": []
  },
  {
   "cell_type": "code",
   "execution_count": null,
   "metadata": {},
   "outputs": [],
   "source": []
  }
 ],
 "metadata": {
  "kernelspec": {
   "display_name": "nlptorch",
   "language": "python",
   "name": "nlptorch"
  },
  "language_info": {
   "codemirror_mode": {
    "name": "ipython",
    "version": 3
   },
   "file_extension": ".py",
   "mimetype": "text/x-python",
   "name": "python",
   "nbconvert_exporter": "python",
   "pygments_lexer": "ipython3",
   "version": "3.5.2"
  }
 },
 "nbformat": 4,
 "nbformat_minor": 2
}
