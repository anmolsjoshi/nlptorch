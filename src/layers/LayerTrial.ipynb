{
 "cells": [
  {
   "cell_type": "code",
   "execution_count": 1,
   "metadata": {
    "collapsed": false
   },
   "outputs": [],
   "source": [
    "import torch as T\n",
    "from torch import nn as nn\n",
    "from torch.nn import functional as F\n",
    "from embedding import CharacterEmbedding, WordEmbedding\n",
    "from attention import BasicAttention, BiAttention, CoAttention"
   ]
  },
  {
   "cell_type": "code",
   "execution_count": 3,
   "metadata": {
    "collapsed": false
   },
   "outputs": [
    {
     "name": "stdout",
     "output_type": "stream",
     "text": [
      "torch.Size([32, 600, 200]) torch.Size([32, 50, 200])\n"
     ]
    }
   ],
   "source": [
    "vocab_size = 70\n",
    "char_embed_dim = 8\n",
    "embedding_dim = 100\n",
    "\n",
    "c_char = T.zeros([32, 600, 50], dtype=T.long)\n",
    "c_word = T.zeros([32, 600], dtype=T.long)\n",
    "q_char = T.zeros([32, 50, 50], dtype=T.long)\n",
    "q_word = T.zeros([32, 50], dtype=T.long)\n",
    "char_layer = CharacterEmbedding(vocab_size, char_embed_dim, embedding_dim)\n",
    "word_layer = WordEmbedding(40000, 100, 1)\n",
    "\n",
    "c_embed = T.cat([word_layer(c_word), char_layer(c_char)], -1)\n",
    "q_embed = T.cat([word_layer(q_word), char_layer(q_char)], -1)\n",
    "\n",
    "print (c_embed.shape, q_embed.shape)"
   ]
  },
  {
   "cell_type": "code",
   "execution_count": 6,
   "metadata": {
    "collapsed": false
   },
   "outputs": [
    {
     "name": "stdout",
     "output_type": "stream",
     "text": [
      "torch.Size([32, 600, 400]) torch.Size([32, 50, 400])\n"
     ]
    }
   ],
   "source": [
    "lstm = nn.LSTM(200, 200, bidirectional=True)\n",
    "\n",
    "c_lstm, _ = lstm(c_embed)\n",
    "q_lstm, _ = lstm(q_embed)\n",
    "\n",
    "print (c_lstm.shape, q_lstm.shape)"
   ]
  },
  {
   "cell_type": "code",
   "execution_count": null,
   "metadata": {
    "collapsed": false
   },
   "outputs": [
    {
     "data": {
      "text/plain": [
       "torch.Size([32, 600, 1200])"
      ]
     },
     "execution_count": 7,
     "metadata": {},
     "output_type": "execute_result"
    }
   ],
   "source": [
    "i = BiAttention(200)\n",
    "o = i(q_lstm, c_lstm)\n",
    "\n",
    "o.shape"
   ]
  },
  {
   "cell_type": "code",
   "execution_count": null,
   "metadata": {
    "collapsed": false
   },
   "outputs": [],
   "source": [
    "D = T.zeros([8, 600, 256])\n",
    "Q = T.zeros([8, 100, 256])\n",
    "\n",
    "D = D\n",
    "Q = Q\n",
    "\n",
    "i = CoAttention(128)\n",
    "o = i(Q, D)\n",
    "\n",
    "o.shape"
   ]
  },
  {
   "cell_type": "code",
   "execution_count": null,
   "metadata": {
    "collapsed": false
   },
   "outputs": [],
   "source": [
    "from maxout import Maxout"
   ]
  },
  {
   "cell_type": "code",
   "execution_count": null,
   "metadata": {
    "collapsed": false
   },
   "outputs": [],
   "source": [
    "Maxout(3)(o).shape"
   ]
  },
  {
   "cell_type": "code",
   "execution_count": null,
   "metadata": {
    "collapsed": true
   },
   "outputs": [],
   "source": []
  }
 ],
 "metadata": {
  "kernelspec": {
   "display_name": "nlptorch",
   "language": "python",
   "name": "nlptorch"
  },
  "language_info": {
   "codemirror_mode": {
    "name": "ipython",
    "version": 3
   },
   "file_extension": ".py",
   "mimetype": "text/x-python",
   "name": "python",
   "nbconvert_exporter": "python",
   "pygments_lexer": "ipython3",
   "version": "3.6.6"
  }
 },
 "nbformat": 4,
 "nbformat_minor": 2
}
