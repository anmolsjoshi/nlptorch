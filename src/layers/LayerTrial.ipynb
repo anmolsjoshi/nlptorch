{
 "cells": [
  {
   "cell_type": "code",
   "execution_count": null,
   "metadata": {},
   "outputs": [],
   "source": [
    "import torch as T\n",
    "from torch import nn as nn\n",
    "from torch.nn import functional as F\n",
    "from embedding import CharacterConvEmbedding\n",
    "from attention import BasicAttention, BiAttention, CoAttention\n",
    "from network import EmbedText, Encoder, DynamicPointingDecoder"
   ]
  },
  {
   "cell_type": "code",
   "execution_count": null,
   "metadata": {},
   "outputs": [],
   "source": [
    "char_args = {'vocab_size': 70, 'embedding_dim': 8, 'padding_idx':10}\n",
    "char_conv_args = {'char_embed_dim':8, 'embedding_dim':100, 'kernel_sizes':[2, 3, 4 ,5], 'num_filters':50}\n",
    "word_args = {'vocab_size':40000, 'embedding_dim':100, 'padding_idx':10}\n",
    "\n",
    "c_char = T.zeros([32, 600, 50], dtype=T.long)\n",
    "c_word = T.zeros([32, 600], dtype=T.long)\n",
    "q_char = T.zeros([32, 50, 50], dtype=T.long)\n",
    "q_word = T.zeros([32, 50], dtype=T.long)"
   ]
  },
  {
   "cell_type": "code",
   "execution_count": null,
   "metadata": {},
   "outputs": [],
   "source": [
    "embedtext = EmbedText(word_args, char_args, shared=False)\n",
    "qw, cw, qc, cc = embedtext(q_word, c_word, q_char, c_char)\n",
    "qw = qw.cuda()\n",
    "cw = cw.cuda()\n",
    "qc = qc.cuda()\n",
    "cc = cc.cuda()\n",
    "\n",
    "print (qw.type(), cw.type(), qc.type(), cc.type())"
   ]
  },
  {
   "cell_type": "code",
   "execution_count": null,
   "metadata": {},
   "outputs": [],
   "source": [
    "encoder = Encoder(word_args, char_conv_args, hidden_dim=200, shared=True, use_cuda=True)\n",
    "\n",
    "q_lstm, c_lstm = encoder(qw, cw, qc, cc)\n",
    "\n",
    "print (q_lstm.type(), c_lstm.type())\n",
    "print (q_lstm.shape, c_lstm.shape)"
   ]
  },
  {
   "cell_type": "code",
   "execution_count": null,
   "metadata": {},
   "outputs": [],
   "source": [
    "i = CoAttention(200, use_cuda=True)\n",
    "o = i(q_lstm, c_lstm)\n",
    "\n",
    "o.shape"
   ]
  },
  {
   "cell_type": "code",
   "execution_count": null,
   "metadata": {},
   "outputs": [],
   "source": [
    "dn = DynamicPointingDecoder(hidden_dim=400, use_cuda=True)"
   ]
  },
  {
   "cell_type": "code",
   "execution_count": null,
   "metadata": {},
   "outputs": [],
   "source": [
    "dn(o)"
   ]
  }
 ],
 "metadata": {
  "kernelspec": {
   "display_name": "nlptorch",
   "language": "python",
   "name": "nlptorch"
  },
  "language_info": {
   "codemirror_mode": {
    "name": "ipython",
    "version": 3
   },
   "file_extension": ".py",
   "mimetype": "text/x-python",
   "name": "python",
   "nbconvert_exporter": "python",
   "pygments_lexer": "ipython3",
   "version": "3.5.2"
  }
 },
 "nbformat": 4,
 "nbformat_minor": 2
}
