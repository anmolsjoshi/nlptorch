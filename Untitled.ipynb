{
 "cells": [
  {
   "cell_type": "code",
   "execution_count": 1,
   "metadata": {},
   "outputs": [],
   "source": [
    "from src.data.data_batcher import get_batch_generator\n",
    "from src.data.vocab import get_glove\n",
    "import os"
   ]
  },
  {
   "cell_type": "code",
   "execution_count": 2,
   "metadata": {},
   "outputs": [],
   "source": [
    "train_context_path = os.path.join(\"data\", \"train.context\")\n",
    "train_qn_path = os.path.join(\"data\", \"train.question\")\n",
    "train_ans_path = os.path.join(\"data\", \"train.span\")\n",
    "dev_context_path = os.path.join(\"data\", \"dev.context\")\n",
    "dev_qn_path = os.path.join(\"data\", \"dev.question\")\n",
    "dev_ans_path = os.path.join(\"data\", \"dev.span\")"
   ]
  },
  {
   "cell_type": "code",
   "execution_count": 3,
   "metadata": {},
   "outputs": [
    {
     "name": "stdout",
     "output_type": "stream",
     "text": [
      "Loading GLoVE vectors from file: data/glove.6B.100d.txt\n"
     ]
    },
    {
     "data": {
      "application/vnd.jupyter.widget-view+json": {
       "model_id": "9d2b000caee4419287e647d612f87544",
       "version_major": 2,
       "version_minor": 0
      },
      "text/plain": [
       "HBox(children=(IntProgress(value=0, max=400000), HTML(value='')))"
      ]
     },
     "metadata": {},
     "output_type": "display_data"
    },
    {
     "name": "stdout",
     "output_type": "stream",
     "text": [
      "\n"
     ]
    }
   ],
   "source": [
    "glove_path = os.path.join(\"data\", \"glove.6B.{}d.txt\".format(100))\n",
    "\n",
    "emb_matrix, word2id, id2word = get_glove(glove_path, 100)"
   ]
  },
  {
   "cell_type": "code",
   "execution_count": 4,
   "metadata": {},
   "outputs": [],
   "source": [
    "klm = get_batch_generator(word2id, train_context_path, train_qn_path, train_ans_path, 32, 600, 50, False)"
   ]
  },
  {
   "cell_type": "code",
   "execution_count": 5,
   "metadata": {},
   "outputs": [
    {
     "name": "stdout",
     "output_type": "stream",
     "text": [
      "Refilling batches...\n",
      "Refilling batches took 0.76 seconds\n"
     ]
    }
   ],
   "source": [
    "P = next(klm)"
   ]
  },
  {
   "cell_type": "code",
   "execution_count": 6,
   "metadata": {
    "scrolled": false
   },
   "outputs": [],
   "source": [
    "import torch as T\n",
    "from torch import nn as nn\n",
    "from torch.nn import functional as F\n",
    "from src.layers.embedding import CharacterConvEmbedding\n",
    "from src.layers.attention import BasicAttention, BiAttention, CoAttention\n",
    "from src.layers.network import EmbedText, Encoder, DynamicPointingDecoder"
   ]
  },
  {
   "cell_type": "code",
   "execution_count": 7,
   "metadata": {},
   "outputs": [],
   "source": [
    "char_args = {'vocab_size': 70, 'embedding_dim': 8, 'padding_idx':10}\n",
    "char_conv_args = {'char_embed_dim':8, 'embedding_dim':100, 'kernel_sizes':[2, 3, 4 ,5], 'num_filters':50}\n",
    "word_args = {'vocab_size':40000, 'embedding_dim':100, 'embeddings':emb_matrix, 'trainable':False, 'padding_idx':10}"
   ]
  },
  {
   "cell_type": "code",
   "execution_count": 8,
   "metadata": {},
   "outputs": [],
   "source": [
    "embedtext = EmbedText(word_args, char_args, shared=False)"
   ]
  },
  {
   "cell_type": "code",
   "execution_count": 18,
   "metadata": {},
   "outputs": [
    {
     "data": {
      "text/plain": [
       "70"
      ]
     },
     "execution_count": 18,
     "metadata": {},
     "output_type": "execute_result"
    }
   ],
   "source": [
    "len(characters)"
   ]
  },
  {
   "cell_type": "code",
   "execution_count": 71,
   "metadata": {},
   "outputs": [],
   "source": [
    "_PAD = '<pad>'\n",
    "_UNK = '<unk>'\n",
    "characters = 'abcdefghijklmnopqrstuvwxyz0123456789,.<>:;{}[]\\|=+_-()*&?^%$#@!`~\\n/\\\"\\'\\\\'\n",
    "characters = list([_PAD, _UNK]) + list(characters)\n",
    "char2id = {character: i for i, character in enumerate(characters)}"
   ]
  },
  {
   "cell_type": "code",
   "execution_count": 87,
   "metadata": {},
   "outputs": [],
   "source": [
    "with open('data/train.context') as f:\n",
    "    content = f.readlines()"
   ]
  },
  {
   "cell_type": "code",
   "execution_count": 88,
   "metadata": {},
   "outputs": [],
   "source": [
    "words = []\n",
    "for paragraphs in content:\n",
    "    words.extend(paragraphs.split(' '))"
   ]
  },
  {
   "cell_type": "code",
   "execution_count": 89,
   "metadata": {},
   "outputs": [
    {
     "data": {
      "text/plain": [
       "4.617272435412285"
      ]
     },
     "execution_count": 89,
     "metadata": {},
     "output_type": "execute_result"
    }
   ],
   "source": [
    "sum([len(x) for x in words])/len([len(x) for x in words])"
   ]
  },
  {
   "cell_type": "code",
   "execution_count": 101,
   "metadata": {},
   "outputs": [],
   "source": [
    "sen = P.context_tokens[0]\n",
    "\n",
    "sentence = [list(word) for word in sen]"
   ]
  },
  {
   "cell_type": "code",
   "execution_count": 103,
   "metadata": {},
   "outputs": [],
   "source": [
    "char_ids = [[char2id.get(w) for w in word] for word in sentence]"
   ]
  },
  {
   "cell_type": "code",
   "execution_count": 104,
   "metadata": {},
   "outputs": [],
   "source": [
    "def padded(token_batch, batch_pad=0):\n",
    "    \"\"\"\n",
    "    Inputs:\n",
    "      token_batch: List (length batch size) of lists of ints.\n",
    "      batch_pad: Int. Length to pad to. If 0, pad to maximum length sequence in token_batch.\n",
    "    Returns:\n",
    "      List (length batch_size) of padded of lists of ints.\n",
    "        All are same length - batch_pad if batch_pad!=0, otherwise the maximum length in token_batch\n",
    "    \"\"\"\n",
    "    maxlen = max(map(lambda x: len(x), token_batch)) if batch_pad == 0 else batch_pad\n",
    "    return list(map(lambda token_list: token_list + [PAD_ID] * (maxlen - len(token_list)), token_batch))"
   ]
  },
  {
   "cell_type": "code",
   "execution_count": null,
   "metadata": {},
   "outputs": [],
   "source": []
  },
  {
   "cell_type": "code",
   "execution_count": 107,
   "metadata": {},
   "outputs": [
    {
     "data": {
      "text/plain": [
       "[[7, 19, 16, 14, 0, 0, 0, 0, 0, 0],\n",
       " [29, 30, 30, 36, 0, 0, 0, 0, 0, 0],\n",
       " [38, 0, 0, 0, 0, 0, 0, 0, 0, 0],\n",
       " [2, 7, 21, 6, 19, 0, 0, 0, 0, 0],\n",
       " [16, 7, 0, 0, 0, 0, 0, 0, 0, 0],\n",
       " [21, 9, 6, 0, 0, 0, 0, 0, 0, 0],\n",
       " [13, 10, 23, 16, 15, 10, 2, 15, 0, 0],\n",
       " [4, 19, 22, 20, 2, 5, 6, 0, 0, 0],\n",
       " [38, 0, 0, 0, 0, 0, 0, 0, 0, 0],\n",
       " [21, 9, 19, 16, 22, 8, 9, 0, 0, 0],\n",
       " [21, 9, 6, 0, 0, 0, 0, 0, 0, 0],\n",
       " [29, 33, 34, 28, 20, 0, 0, 0, 0, 0],\n",
       " [38, 0, 0, 0, 0, 0, 0, 0, 0, 0],\n",
       " [6, 20, 21, 16, 15, 10, 2, 0, 0, 0],\n",
       " [24, 2, 20, 0, 0, 0, 0, 0, 0, 0],\n",
       " [17, 2, 19, 21, 0, 0, 0, 0, 0, 0],\n",
       " [16, 7, 0, 0, 0, 0, 0, 0, 0, 0],\n",
       " [21, 6, 19, 19, 2, 0, 0, 0, 0, 0],\n",
       " [14, 2, 19, 10, 2, 15, 2, 0, 0, 0],\n",
       " [38, 0, 0, 0, 0, 0, 0, 0, 0, 0],\n",
       " [6, 20, 21, 2, 3, 13, 10, 20, 9, 6, 5],\n",
       " [16, 15, 0, 0, 0, 0, 0, 0, 0, 0],\n",
       " [30, 0, 0, 0, 0, 0, 0, 0, 0, 0],\n",
       " [7, 6, 3, 19, 22, 2, 19, 26, 0, 0],\n",
       " [29, 30, 28, 35, 0, 0, 0, 0, 0, 0],\n",
       " [2, 20, 0, 0, 0, 0, 0, 0, 0, 0],\n",
       " [2, 0, 0, 0, 0, 0, 0, 0, 0, 0],\n",
       " [17, 19, 10, 15, 4, 10, 17, 2, 13, 10, 21, 26],\n",
       " [16, 7, 0, 0, 0, 0, 0, 0, 0, 0],\n",
       " [21, 9, 6, 0, 0, 0, 0, 0, 0, 0],\n",
       " [9, 16, 13, 26, 0, 0, 0, 0, 0, 0],\n",
       " [19, 16, 14, 2, 15, 0, 0, 0, 0, 0],\n",
       " [6, 14, 17, 10, 19, 6, 0, 0, 0, 0],\n",
       " [2, 15, 5, 0, 0, 0, 0, 0, 0, 0],\n",
       " [17, 19, 16, 4, 13, 2, 10, 14, 6, 5],\n",
       " [3, 26, 0, 0, 0, 0, 0, 0, 0, 0],\n",
       " [17, 16, 17, 6, 0, 0, 0, 0, 0, 0],\n",
       " [10, 15, 15, 16, 4, 6, 15, 21, 0, 0],\n",
       " [10, 10, 10, 0, 0, 0, 0, 0, 0, 0],\n",
       " [10, 15, 0, 0, 0, 0, 0, 0, 0, 0],\n",
       " [29, 30, 29, 33, 0, 0, 0, 0, 0, 0],\n",
       " [2, 20, 0, 0, 0, 0, 0, 0, 0, 0],\n",
       " [20, 22, 3, 11, 6, 4, 21, 0, 0, 0],\n",
       " [21, 16, 0, 0, 0, 0, 0, 0, 0, 0],\n",
       " [21, 9, 6, 0, 0, 0, 0, 0, 0, 0],\n",
       " [9, 16, 13, 26, 0, 0, 0, 0, 0, 0],\n",
       " [20, 6, 6, 0, 0, 0, 0, 0, 0, 0],\n",
       " [39, 0, 0, 0, 0, 0, 0, 0, 0, 0],\n",
       " [21, 9, 6, 0, 0, 0, 0, 0, 0, 0],\n",
       " [20, 16, 22, 21, 9, 6, 19, 15, 0, 0],\n",
       " [17, 2, 19, 21, 20, 0, 0, 0, 0, 0],\n",
       " [16, 7, 0, 0, 0, 0, 0, 0, 0, 0],\n",
       " [21, 9, 6, 0, 0, 0, 0, 0, 0, 0],\n",
       " [4, 16, 22, 15, 21, 19, 26, 0, 0, 0],\n",
       " [24, 6, 19, 6, 0, 0, 0, 0, 0, 0],\n",
       " [4, 16, 15, 18, 22, 6, 19, 6, 5, 0],\n",
       " [3, 26, 0, 0, 0, 0, 0, 0, 0, 0],\n",
       " [13, 10, 23, 16, 15, 10, 2, 15, 0, 0],\n",
       " [3, 19, 16, 21, 9, 6, 19, 20, 0, 0],\n",
       " [16, 7, 0, 0, 0, 0, 0, 0, 0, 0],\n",
       " [21, 9, 6, 0, 0, 0, 0, 0, 0, 0],\n",
       " [20, 24, 16, 19, 5, 0, 0, 0, 0, 0],\n",
       " [24, 9, 16, 0, 0, 0, 0, 0, 0, 0],\n",
       " [11, 16, 10, 15, 6, 5, 0, 0, 0, 0],\n",
       " [21, 9, 6, 0, 0, 0, 0, 0, 0, 0],\n",
       " [21, 6, 22, 21, 16, 15, 10, 4, 0, 0],\n",
       " [16, 19, 5, 6, 19, 0, 0, 0, 0, 0],\n",
       " [10, 15, 0, 0, 0, 0, 0, 0, 0, 0],\n",
       " [29, 30, 31, 35, 0, 0, 0, 0, 0, 0],\n",
       " [2, 15, 5, 0, 0, 0, 0, 0, 0, 0],\n",
       " [3, 6, 4, 2, 14, 6, 0, 0, 0, 0],\n",
       " [10, 21, 20, 0, 0, 0, 0, 0, 0, 0],\n",
       " [3, 19, 2, 15, 4, 9, 0, 0, 0, 0],\n",
       " [12, 15, 16, 24, 15, 0, 0, 0, 0, 0],\n",
       " [2, 20, 0, 0, 0, 0, 0, 0, 0, 0],\n",
       " [21, 9, 6, 0, 0, 0, 0, 0, 0, 0],\n",
       " [13, 10, 23, 16, 15, 10, 2, 15, 0, 0],\n",
       " [16, 19, 5, 6, 19, 0, 0, 0, 0, 0],\n",
       " [39, 0, 0, 0, 0, 0, 0, 0, 0, 0],\n",
       " [21, 9, 6, 0, 0, 0, 0, 0, 0, 0],\n",
       " [5, 22, 4, 9, 26, 0, 0, 0, 0, 0],\n",
       " [16, 7, 0, 0, 0, 0, 0, 0, 0, 0],\n",
       " [6, 20, 21, 16, 15, 10, 2, 0, 0, 0],\n",
       " [24, 2, 20, 0, 0, 0, 0, 0, 0, 0],\n",
       " [4, 19, 6, 2, 21, 6, 5, 0, 0, 0],\n",
       " [16, 22, 21, 0, 0, 0, 0, 0, 0, 0],\n",
       " [16, 7, 0, 0, 0, 0, 0, 0, 0, 0],\n",
       " [21, 9, 6, 0, 0, 0, 0, 0, 0, 0],\n",
       " [15, 16, 19, 21, 9, 6, 19, 15, 0, 0],\n",
       " [17, 2, 19, 21, 20, 0, 0, 0, 0, 0],\n",
       " [16, 7, 0, 0, 0, 0, 0, 0, 0, 0],\n",
       " [21, 9, 6, 0, 0, 0, 0, 0, 0, 0],\n",
       " [4, 16, 22, 15, 21, 19, 26, 0, 0, 0],\n",
       " [2, 15, 5, 0, 0, 0, 0, 0, 0, 0],\n",
       " [24, 2, 20, 0, 0, 0, 0, 0, 0, 0],\n",
       " [2, 0, 0, 0, 0, 0, 0, 0, 0, 0],\n",
       " [5, 10, 19, 6, 4, 21, 0, 0, 0, 0],\n",
       " [5, 16, 14, 10, 15, 10, 16, 15, 0, 0],\n",
       " [16, 7, 0, 0, 0, 0, 0, 0, 0, 0],\n",
       " [21, 9, 6, 0, 0, 0, 0, 0, 0, 0],\n",
       " [12, 10, 15, 8, 0, 0, 0, 0, 0, 0],\n",
       " [16, 7, 0, 0, 0, 0, 0, 0, 0, 0],\n",
       " [5, 6, 15, 14, 2, 19, 12, 0, 0, 0],\n",
       " [7, 19, 16, 14, 0, 0, 0, 0, 0, 0],\n",
       " [29, 30, 29, 37, 0, 0, 0, 0, 0, 0],\n",
       " [22, 15, 21, 10, 13, 0, 0, 0, 0, 0],\n",
       " [29, 31, 32, 34, 0, 0, 0, 0, 0, 0],\n",
       " [38, 0, 0, 0, 0, 0, 0, 0, 0, 0],\n",
       " [24, 9, 6, 15, 0, 0, 0, 0, 0, 0],\n",
       " [10, 21, 0, 0, 0, 0, 0, 0, 0, 0],\n",
       " [24, 2, 20, 0, 0, 0, 0, 0, 0, 0],\n",
       " [20, 16, 13, 5, 0, 0, 0, 0, 0, 0],\n",
       " [21, 16, 0, 0, 0, 0, 0, 0, 0, 0],\n",
       " [21, 9, 6, 0, 0, 0, 0, 0, 0, 0],\n",
       " [21, 6, 22, 21, 16, 15, 10, 4, 0, 0],\n",
       " [16, 19, 5, 6, 19, 0, 0, 0, 0, 0],\n",
       " [2, 15, 5, 0, 0, 0, 0, 0, 0, 0],\n",
       " [3, 6, 4, 2, 14, 6, 0, 0, 0, 0],\n",
       " [17, 2, 19, 21, 0, 0, 0, 0, 0, 0],\n",
       " [16, 7, 0, 0, 0, 0, 0, 0, 0, 0],\n",
       " [21, 9, 6, 0, 0, 0, 0, 0, 0, 0],\n",
       " [16, 19, 5, 6, 15, 20, 21, 2, 2, 21],\n",
       " [39, 0, 0, 0, 0, 0, 0, 0, 0, 0],\n",
       " [10, 15, 0, 0, 0, 0, 0, 0, 0, 0],\n",
       " [29, 31, 32, 31, 0, 0, 0, 0, 0, 0],\n",
       " [38, 0, 0, 0, 0, 0, 0, 0, 0, 0],\n",
       " [21, 9, 6, 0, 0, 0, 0, 0, 0, 0],\n",
       " [17, 6, 16, 17, 13, 6, 0, 0, 0, 0],\n",
       " [16, 7, 0, 0, 0, 0, 0, 0, 0, 0],\n",
       " [15, 16, 19, 21, 9, 6, 19, 15, 0, 0],\n",
       " [6, 20, 21, 16, 15, 10, 2, 0, 0, 0],\n",
       " [2, 15, 5, 0, 0, 0, 0, 0, 0, 0],\n",
       " [20, 2, 2, 19, 6, 14, 2, 2, 0, 0],\n",
       " [19, 6, 3, 6, 13, 13, 6, 5, 0, 0],\n",
       " [2, 8, 2, 10, 15, 20, 21, 0, 0, 0],\n",
       " [8, 6, 19, 14, 2, 15, 0, 0, 0, 0],\n",
       " [19, 22, 13, 6, 0, 0, 0, 0, 0, 0],\n",
       " [10, 15, 0, 0, 0, 0, 0, 0, 0, 0],\n",
       " [21, 9, 6, 0, 0, 0, 0, 0, 0, 0],\n",
       " [20, 21, 39, 0, 0, 0, 0, 0, 0, 0],\n",
       " [8, 6, 16, 19, 8, 6, 0, 0, 0, 0],\n",
       " [70, 20, 0, 0, 0, 0, 0, 0, 0, 0],\n",
       " [15, 10, 8, 9, 21, 0, 0, 0, 0, 0],\n",
       " [22, 17, 19, 10, 20, 10, 15, 8, 0, 0],\n",
       " [38, 0, 0, 0, 0, 0, 0, 0, 0, 0],\n",
       " [24, 9, 10, 4, 9, 0, 0, 0, 0, 0],\n",
       " [24, 2, 20, 0, 0, 0, 0, 0, 0, 0],\n",
       " [17, 22, 21, 0, 0, 0, 0, 0, 0, 0],\n",
       " [5, 16, 24, 15, 0, 0, 0, 0, 0, 0],\n",
       " [3, 26, 0, 0, 0, 0, 0, 0, 0, 0],\n",
       " [29, 31, 32, 33, 0, 0, 0, 0, 0, 0],\n",
       " [39, 0, 0, 0, 0, 0, 0, 0, 0, 0],\n",
       " [21, 9, 6, 0, 0, 0, 0, 0, 0, 0],\n",
       " [22, 15, 20, 22, 4, 4, 6, 20, 20, 7, 22, 13],\n",
       " [19, 6, 3, 6, 13, 13, 10, 16, 15, 0],\n",
       " [13, 6, 5, 0, 0, 0, 0, 0, 0, 0],\n",
       " [21, 16, 0, 0, 0, 0, 0, 0, 0, 0],\n",
       " [2, 0, 0, 0, 0, 0, 0, 0, 0, 0],\n",
       " [4, 16, 15, 20, 16, 13, 10, 5, 2, 21, 10, 16, 15],\n",
       " [16, 7, 0, 0, 0, 0, 0, 0, 0, 0],\n",
       " [17, 16, 24, 6, 19, 0, 0, 0, 0, 0],\n",
       " [7, 16, 19, 0, 0, 0, 0, 0, 0, 0],\n",
       " [21, 9, 6, 0, 0, 0, 0, 0, 0, 0],\n",
       " [3, 2, 13, 21, 10, 4, 0, 0, 0, 0],\n",
       " [8, 6, 19, 14, 2, 15, 0, 0, 0, 0],\n",
       " [14, 10, 15, 16, 19, 10, 21, 26, 0, 0],\n",
       " [39, 0, 0, 0, 0, 0, 0, 0, 0, 0],\n",
       " [7, 16, 19, 0, 0, 0, 0, 0, 0, 0],\n",
       " [21, 9, 6, 0, 0, 0, 0, 0, 0, 0],\n",
       " [20, 22, 3, 20, 6, 18, 22, 6, 15, 21],\n",
       " [4, 6, 15, 21, 22, 19, 10, 6, 20, 0],\n",
       " [21, 9, 6, 26, 0, 0, 0, 0, 0, 0],\n",
       " [19, 6, 14, 2, 10, 15, 6, 5, 0, 0],\n",
       " [21, 9, 6, 0, 0, 0, 0, 0, 0, 0],\n",
       " [19, 22, 13, 10, 15, 8, 0, 0, 0, 0],\n",
       " [6, 13, 10, 21, 6, 0, 0, 0, 0, 0],\n",
       " [10, 15, 0, 0, 0, 0, 0, 0, 0, 0],\n",
       " [3, 16, 21, 9, 0, 0, 0, 0, 0, 0],\n",
       " [4, 10, 21, 10, 6, 20, 0, 0, 0, 0],\n",
       " [2, 15, 5, 0, 0, 0, 0, 0, 0, 0],\n",
       " [10, 15, 0, 0, 0, 0, 0, 0, 0, 0],\n",
       " [21, 9, 6, 0, 0, 0, 0, 0, 0, 0],\n",
       " [4, 16, 22, 15, 21, 19, 26, 20, 10, 5, 6],\n",
       " [39, 0, 0, 0, 0, 0, 0, 0, 0, 0]]"
      ]
     },
     "execution_count": 107,
     "metadata": {},
     "output_type": "execute_result"
    }
   ],
   "source": [
    "padded(char_ids, 10)"
   ]
  },
  {
   "cell_type": "code",
   "execution_count": null,
   "metadata": {},
   "outputs": [],
   "source": []
  }
 ],
 "metadata": {
  "kernelspec": {
   "display_name": "nlptorch",
   "language": "python",
   "name": "nlptorch"
  },
  "language_info": {
   "codemirror_mode": {
    "name": "ipython",
    "version": 3
   },
   "file_extension": ".py",
   "mimetype": "text/x-python",
   "name": "python",
   "nbconvert_exporter": "python",
   "pygments_lexer": "ipython3",
   "version": "3.5.2"
  }
 },
 "nbformat": 4,
 "nbformat_minor": 2
}
